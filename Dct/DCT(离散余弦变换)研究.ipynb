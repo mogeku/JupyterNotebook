{
 "cells": [
  {
   "cell_type": "markdown",
   "id": "c6cf42f3",
   "metadata": {},
   "source": [
    "\\begin{equation}F(u,v) = C(u)C(v) \\sum_{i=0}^{1}\\sum_{j=0}^{1} f(i,j)cos\\left [\\frac{\\left(2i+1\\right)u\\pi}{4} \\right] cos\\left [\\frac{\\left(2j+1\\right)v\\pi}{4} \\right]\\end{equation}"
   ]
  }
 ],
 "metadata": {
  "kernelspec": {
   "display_name": "Python 3 (ipykernel)",
   "language": "python",
   "name": "python3"
  },
  "language_info": {
   "codemirror_mode": {
    "name": "ipython",
    "version": 3
   },
   "file_extension": ".py",
   "mimetype": "text/x-python",
   "name": "python",
   "nbconvert_exporter": "python",
   "pygments_lexer": "ipython3",
   "version": "3.9.7"
  }
 },
 "nbformat": 4,
 "nbformat_minor": 5
}
